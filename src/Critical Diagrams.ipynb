{
 "cells": [
  {
   "cell_type": "code",
   "execution_count": 21,
   "id": "8dd71bbf",
   "metadata": {
    "scrolled": true
   },
   "outputs": [],
   "source": [
    "import pandas as pd\n",
    "import numpy as np\n",
    "from scipy import stats\n",
    "import stac"
   ]
  },
  {
   "cell_type": "code",
   "execution_count": null,
   "id": "001965d7",
   "metadata": {},
   "outputs": [],
   "source": [
    "import  scipy"
   ]
  },
  {
   "cell_type": "code",
   "execution_count": 6,
   "id": "41c76ef9-7359-4f85-b171-ce06d9ca2398",
   "metadata": {},
   "outputs": [],
   "source": [
    "df_pivot_tss = pd.read_csv(\"TSS Comparison.csv\", index_col=0)"
   ]
  },
  {
   "cell_type": "code",
   "execution_count": 7,
   "id": "140aa408-f23a-4378-818e-a59638106714",
   "metadata": {},
   "outputs": [],
   "source": [
    "df_pivot_clr = pd.read_csv(\"CLR Comparison.csv\", index_col=0)"
   ]
  },
  {
   "cell_type": "code",
   "execution_count": 8,
   "id": "2ed9c74f",
   "metadata": {},
   "outputs": [
    {
     "data": {
      "text/html": [
       "<div>\n",
       "<style scoped>\n",
       "    .dataframe tbody tr th:only-of-type {\n",
       "        vertical-align: middle;\n",
       "    }\n",
       "\n",
       "    .dataframe tbody tr th {\n",
       "        vertical-align: top;\n",
       "    }\n",
       "\n",
       "    .dataframe thead th {\n",
       "        text-align: right;\n",
       "    }\n",
       "</style>\n",
       "<table border=\"1\" class=\"dataframe\">\n",
       "  <thead>\n",
       "    <tr style=\"text-align: right;\">\n",
       "      <th></th>\n",
       "      <th>Boosting</th>\n",
       "      <th>KNN</th>\n",
       "      <th>LogisticRegression</th>\n",
       "      <th>RandomForest</th>\n",
       "      <th>SVM</th>\n",
       "    </tr>\n",
       "    <tr>\n",
       "      <th>Dataset</th>\n",
       "      <th></th>\n",
       "      <th></th>\n",
       "      <th></th>\n",
       "      <th></th>\n",
       "      <th></th>\n",
       "    </tr>\n",
       "  </thead>\n",
       "  <tbody>\n",
       "    <tr>\n",
       "      <th>CDI</th>\n",
       "      <td>0.926413</td>\n",
       "      <td>0.610608</td>\n",
       "      <td>0.808150</td>\n",
       "      <td>0.897269</td>\n",
       "      <td>0.799761</td>\n",
       "    </tr>\n",
       "    <tr>\n",
       "      <th>CIR</th>\n",
       "      <td>0.790570</td>\n",
       "      <td>0.632182</td>\n",
       "      <td>0.572836</td>\n",
       "      <td>0.846848</td>\n",
       "      <td>0.561903</td>\n",
       "    </tr>\n",
       "    <tr>\n",
       "      <th>CRC1</th>\n",
       "      <td>0.627910</td>\n",
       "      <td>0.557049</td>\n",
       "      <td>0.640332</td>\n",
       "      <td>0.688225</td>\n",
       "      <td>0.650420</td>\n",
       "    </tr>\n",
       "    <tr>\n",
       "      <th>CRC2</th>\n",
       "      <td>0.708646</td>\n",
       "      <td>0.683071</td>\n",
       "      <td>0.753872</td>\n",
       "      <td>0.824727</td>\n",
       "      <td>0.756498</td>\n",
       "    </tr>\n",
       "    <tr>\n",
       "      <th>CD1</th>\n",
       "      <td>0.792779</td>\n",
       "      <td>0.683569</td>\n",
       "      <td>0.746846</td>\n",
       "      <td>0.807269</td>\n",
       "      <td>0.719420</td>\n",
       "    </tr>\n",
       "    <tr>\n",
       "      <th>CD2</th>\n",
       "      <td>0.813199</td>\n",
       "      <td>0.676716</td>\n",
       "      <td>0.773522</td>\n",
       "      <td>0.829721</td>\n",
       "      <td>0.713797</td>\n",
       "    </tr>\n",
       "    <tr>\n",
       "      <th>HIV</th>\n",
       "      <td>0.779100</td>\n",
       "      <td>0.578608</td>\n",
       "      <td>0.776487</td>\n",
       "      <td>0.716523</td>\n",
       "      <td>0.790985</td>\n",
       "    </tr>\n",
       "    <tr>\n",
       "      <th>IBD1</th>\n",
       "      <td>0.747769</td>\n",
       "      <td>0.735429</td>\n",
       "      <td>0.705703</td>\n",
       "      <td>0.781813</td>\n",
       "      <td>0.597802</td>\n",
       "    </tr>\n",
       "    <tr>\n",
       "      <th>IBD2</th>\n",
       "      <td>0.664762</td>\n",
       "      <td>0.635700</td>\n",
       "      <td>0.578515</td>\n",
       "      <td>0.689253</td>\n",
       "      <td>0.580918</td>\n",
       "    </tr>\n",
       "    <tr>\n",
       "      <th>MHE</th>\n",
       "      <td>0.687915</td>\n",
       "      <td>0.542339</td>\n",
       "      <td>0.674339</td>\n",
       "      <td>0.811582</td>\n",
       "      <td>0.513370</td>\n",
       "    </tr>\n",
       "    <tr>\n",
       "      <th>OB</th>\n",
       "      <td>0.806428</td>\n",
       "      <td>0.800522</td>\n",
       "      <td>0.840274</td>\n",
       "      <td>0.868625</td>\n",
       "      <td>0.870361</td>\n",
       "    </tr>\n",
       "    <tr>\n",
       "      <th>PAR1</th>\n",
       "      <td>0.673130</td>\n",
       "      <td>0.570267</td>\n",
       "      <td>0.574997</td>\n",
       "      <td>0.689835</td>\n",
       "      <td>0.474152</td>\n",
       "    </tr>\n",
       "    <tr>\n",
       "      <th>PAR2</th>\n",
       "      <td>0.740182</td>\n",
       "      <td>0.598765</td>\n",
       "      <td>0.639553</td>\n",
       "      <td>0.747566</td>\n",
       "      <td>0.617283</td>\n",
       "    </tr>\n",
       "    <tr>\n",
       "      <th>PAR3</th>\n",
       "      <td>0.783229</td>\n",
       "      <td>0.529730</td>\n",
       "      <td>0.651914</td>\n",
       "      <td>0.776963</td>\n",
       "      <td>0.627187</td>\n",
       "    </tr>\n",
       "    <tr>\n",
       "      <th>ART</th>\n",
       "      <td>0.586353</td>\n",
       "      <td>0.568131</td>\n",
       "      <td>0.641699</td>\n",
       "      <td>0.604784</td>\n",
       "      <td>0.566327</td>\n",
       "    </tr>\n",
       "  </tbody>\n",
       "</table>\n",
       "</div>"
      ],
      "text/plain": [
       "         Boosting       KNN  LogisticRegression  RandomForest       SVM\n",
       "Dataset                                                                \n",
       "CDI      0.926413  0.610608            0.808150      0.897269  0.799761\n",
       "CIR      0.790570  0.632182            0.572836      0.846848  0.561903\n",
       "CRC1     0.627910  0.557049            0.640332      0.688225  0.650420\n",
       "CRC2     0.708646  0.683071            0.753872      0.824727  0.756498\n",
       "CD1      0.792779  0.683569            0.746846      0.807269  0.719420\n",
       "CD2      0.813199  0.676716            0.773522      0.829721  0.713797\n",
       "HIV      0.779100  0.578608            0.776487      0.716523  0.790985\n",
       "IBD1     0.747769  0.735429            0.705703      0.781813  0.597802\n",
       "IBD2     0.664762  0.635700            0.578515      0.689253  0.580918\n",
       "MHE      0.687915  0.542339            0.674339      0.811582  0.513370\n",
       "OB       0.806428  0.800522            0.840274      0.868625  0.870361\n",
       "PAR1     0.673130  0.570267            0.574997      0.689835  0.474152\n",
       "PAR2     0.740182  0.598765            0.639553      0.747566  0.617283\n",
       "PAR3     0.783229  0.529730            0.651914      0.776963  0.627187\n",
       "ART      0.586353  0.568131            0.641699      0.604784  0.566327"
      ]
     },
     "execution_count": 8,
     "metadata": {},
     "output_type": "execute_result"
    }
   ],
   "source": [
    "df_pivot_tss"
   ]
  },
  {
   "cell_type": "markdown",
   "id": "8502d780",
   "metadata": {},
   "source": []
  },
  {
   "cell_type": "code",
   "execution_count": 10,
   "id": "367c087f",
   "metadata": {},
   "outputs": [
    {
     "data": {
      "text/plain": [
       "6.103515625e-05"
      ]
     },
     "execution_count": 10,
     "metadata": {},
     "output_type": "execute_result"
    }
   ],
   "source": [
    "from scipy.stats import wilcoxon\n",
    "stat, p = wilcoxon(df_pivot_tss[\"RandomForest\"], df_pivot_clr[\"RandomForest\"])\n",
    "p"
   ]
  },
  {
   "cell_type": "code",
   "execution_count": 11,
   "id": "a2eaf6f5",
   "metadata": {},
   "outputs": [
    {
     "data": {
      "text/plain": [
       "6.103515625e-05"
      ]
     },
     "execution_count": 11,
     "metadata": {},
     "output_type": "execute_result"
    }
   ],
   "source": [
    "stat, p = wilcoxon(df_pivot_tss[\"LogisticRegression\"], df_pivot_clr[\"LogisticRegression\"])\n",
    "p"
   ]
  },
  {
   "cell_type": "code",
   "execution_count": 12,
   "id": "7a302175",
   "metadata": {},
   "outputs": [
    {
     "data": {
      "text/plain": [
       "0.5614013671875"
      ]
     },
     "execution_count": 12,
     "metadata": {},
     "output_type": "execute_result"
    }
   ],
   "source": [
    "stat, p = wilcoxon(df_pivot_tss[\"RandomForest\"], df_pivot_clr[\"LogisticRegression\"])\n",
    "p"
   ]
  },
  {
   "cell_type": "code",
   "execution_count": 13,
   "id": "072b7e67",
   "metadata": {},
   "outputs": [
    {
     "data": {
      "text/plain": [
       "0.05535888671875"
      ]
     },
     "execution_count": 13,
     "metadata": {},
     "output_type": "execute_result"
    }
   ],
   "source": [
    "stat, p = wilcoxon(df_pivot_tss.mean(axis=1), df_pivot_clr.mean(axis=1))\n",
    "p"
   ]
  },
  {
   "cell_type": "code",
   "execution_count": 14,
   "id": "1f905d32",
   "metadata": {},
   "outputs": [],
   "source": [
    "data = np.asarray(df_pivot_tss)"
   ]
  },
  {
   "cell_type": "code",
   "execution_count": 15,
   "id": "0bbc5fde",
   "metadata": {},
   "outputs": [
    {
     "data": {
      "text/plain": [
       "array([[0.92641276, 0.7905697 , 0.62790955, 0.70864646, 0.79277885,\n",
       "        0.81319902, 0.77910021, 0.74776923, 0.6647619 , 0.68791515,\n",
       "        0.80642774, 0.67313016, 0.74018195, 0.78322869, 0.58635294],\n",
       "       [0.61060837, 0.63218182, 0.55704869, 0.68307071, 0.68356891,\n",
       "        0.67671583, 0.57860803, 0.73542857, 0.63569963, 0.54233939,\n",
       "        0.80052156, 0.57026667, 0.59876534, 0.52973041, 0.56813072],\n",
       "       [0.80814954, 0.57283636, 0.64033235, 0.75387205, 0.74684615,\n",
       "        0.77352227, 0.77648726, 0.7057033 , 0.57851526, 0.67433939,\n",
       "        0.84027389, 0.57499683, 0.63955271, 0.65191404, 0.64169935],\n",
       "       [0.89726936, 0.84684848, 0.68822519, 0.82472727, 0.80726923,\n",
       "        0.8297211 , 0.71652281, 0.78181319, 0.68925275, 0.81158182,\n",
       "        0.86862471, 0.68983492, 0.74756551, 0.77696324, 0.60478431],\n",
       "       [0.79976101, 0.56190303, 0.6504198 , 0.75649832, 0.71941987,\n",
       "        0.71379731, 0.79098534, 0.5978022 , 0.58091819, 0.5133697 ,\n",
       "        0.87036131, 0.47415238, 0.6172825 , 0.62718741, 0.5663268 ]])"
      ]
     },
     "execution_count": 15,
     "metadata": {},
     "output_type": "execute_result"
    }
   ],
   "source": [
    "data.T"
   ]
  },
  {
   "cell_type": "markdown",
   "id": "4347273f",
   "metadata": {},
   "source": [
    "## Multiple Comparisons Classiffiers"
   ]
  },
  {
   "cell_type": "code",
   "execution_count": 45,
   "id": "97191eb3",
   "metadata": {},
   "outputs": [
    {
     "name": "stdout",
     "output_type": "stream",
     "text": [
      "KNN vs RandomForest: 0.000004\n",
      "RandomForest vs SVM: 0.000693\n",
      "Boosting vs KNN: 0.001147\n",
      "LogisticRegression vs RandomForest: 0.009703\n",
      "Boosting vs SVM: 0.041405\n",
      "KNN vs LogisticRegression: 0.046623\n",
      "Boosting vs RandomForest: 0.184879\n",
      "Boosting vs LogisticRegression: 0.202830\n",
      "KNN vs SVM: 0.223951\n",
      "LogisticRegression vs SVM: 0.355611\n"
     ]
    }
   ],
   "source": [
    "statistic, p_value, ranking, rank_cmp  = stac.friedman_test(*np.transpose(np.asarray(df_pivot_tss)))\n",
    "ranks = {key: rank_cmp[i] for i, key in enumerate(list(df_pivot_tss.columns))} \n",
    "\n",
    "comparisons, z_values, p_values, adj_p_values = stac.finner_multitest(ranks)\n",
    "adj_p_values = np.asarray(adj_p_values)\n",
    "for comparison, p in zip(comparisons, adj_p_values):\n",
    "    print(f\"{comparison}: {p:.6f}\")"
   ]
  },
  {
   "cell_type": "code",
   "execution_count": 46,
   "id": "6dc30db2",
   "metadata": {},
   "outputs": [],
   "source": [
    "models = [\"KNN\", \"RandomForest\", \"SVM\", \"LogisticRegression\", \"Boosting\"]\n",
    "\n",
    "p_values = {\n",
    "    (\"KNN\", \"RandomForest\"): 0.000004,\n",
    "    (\"RandomForest\", \"SVM\"): 0.000693,\n",
    "    (\"Boosting\", \"KNN\"): 0.001147,\n",
    "    (\"LogisticRegression\", \"RandomForest\"): 0.009703,\n",
    "    (\"Boosting\", \"SVM\"): 0.041405,\n",
    "    (\"KNN\", \"LogisticRegression\"): 0.046623,\n",
    "    (\"Boosting\", \"RandomForest\"): 0.184879,\n",
    "    (\"Boosting\", \"LogisticRegression\"): 0.202830,\n",
    "    (\"KNN\", \"SVM\"): 0.223951,\n",
    "    (\"LogisticRegression\", \"SVM\"): 0.355611,\n",
    "}\n",
    "\n",
    "p_matrix = pd.DataFrame(np.nan, index=models, columns=models)\n",
    "\n",
    "for (model1, model2), p_val in p_values.items():\n",
    "    p_matrix.loc[model1, model2] = p_val\n",
    "    p_matrix.loc[model2, model1] = p_val  # Simetría\n",
    "\n",
    "np.fill_diagonal(p_matrix.values, 0)"
   ]
  },
  {
   "cell_type": "code",
   "execution_count": 47,
   "id": "4525e0bf",
   "metadata": {},
   "outputs": [],
   "source": [
    "import scikit_posthocs as sp\n",
    "import matplotlib.pyplot as plt"
   ]
  },
  {
   "cell_type": "code",
   "execution_count": 48,
   "id": "b99daad5",
   "metadata": {},
   "outputs": [],
   "source": [
    "colors = ranks.copy()\n",
    "colors[\"Boosting\"] = \"blue\"\n",
    "colors[\"LogisticRegression\"] = \"grey\"\n",
    "colors[\"RandomForest\"] = \"red\"\n",
    "colors[\"SVM\"] = \"skyblue\"\n",
    "colors[\"KNN\"] = \"yellow\""
   ]
  },
  {
   "cell_type": "code",
   "execution_count": 49,
   "id": "2fa24f77",
   "metadata": {},
   "outputs": [
    {
     "name": "stderr",
     "output_type": "stream",
     "text": [
      "C:\\Users\\ignan\\anaconda3\\lib\\site-packages\\numpy\\core\\fromnumeric.py:57: FutureWarning: 'Series.swapaxes' is deprecated and will be removed in a future version. Please use 'Series.transpose' instead.\n",
      "  return bound(*args, **kwds)\n"
     ]
    },
    {
     "data": {
      "image/png": "[encoded data removed]",
      "text/plain": [
       "<Figure size 1000x200 with 1 Axes>"
      ]
     },
     "metadata": {},
     "output_type": "display_data"
    }
   ],
   "source": [
    "plt.figure(figsize=(10, 2), dpi=100)\n",
    "plt.title('RA Critical difference diagram from Finner\\'s Post-hoc test')\n",
    "ax = sp.critical_difference_diagram(ranks, p_matrix, color_palette=colors)\n",
    "plt.savefig(\"1.png\")"
   ]
  },
  {
   "cell_type": "code",
   "execution_count": 51,
   "id": "eb37dc04",
   "metadata": {},
   "outputs": [
    {
     "name": "stdout",
     "output_type": "stream",
     "text": [
      "KNN vs LogisticRegression: 0.000001\n",
      "LogisticRegression vs RandomForest: 0.000057\n",
      "KNN vs SVM: 0.000462\n",
      "Boosting vs KNN: 0.006687\n",
      "RandomForest vs SVM: 0.011136\n",
      "Boosting vs LogisticRegression: 0.025393\n",
      "Boosting vs RandomForest: 0.070163\n",
      "LogisticRegression vs SVM: 0.130658\n",
      "KNN vs RandomForest: 0.325808\n",
      "Boosting vs SVM: 0.418923\n"
     ]
    }
   ],
   "source": [
    "statistic, p_value, ranking, rank_cmp  = stac.friedman_test(*np.transpose(np.asarray(df_pivot_clr)))\n",
    "ranks = {key: rank_cmp[i] for i, key in enumerate(list(df_pivot_clr.columns))} \n",
    "\n",
    "comparisons, z_values, p_values, adj_p_values = stac.finner_multitest(ranks)\n",
    "adj_p_values = np.asarray(adj_p_values)\n",
    "for comparison, p_value in zip(comparisons, adj_p_values):\n",
    "    print(f\"{comparison}: {p_value:.6f}\")"
   ]
  },
  {
   "cell_type": "code",
   "execution_count": 52,
   "id": "3cfbef7f",
   "metadata": {},
   "outputs": [
    {
     "name": "stdout",
     "output_type": "stream",
     "text": [
      "                         KNN  RandomForest       SVM  LogisticRegression  \\\n",
      "KNN                 0.000000      0.325808  0.000462            0.000001   \n",
      "RandomForest        0.325808      0.000000  0.011136            0.000057   \n",
      "SVM                 0.000462      0.011136  0.000000            0.130658   \n",
      "LogisticRegression  0.000001      0.000057  0.130658            0.000000   \n",
      "Boosting            0.006687      0.070163  0.418923            0.025393   \n",
      "\n",
      "                    Boosting  \n",
      "KNN                 0.006687  \n",
      "RandomForest        0.070163  \n",
      "SVM                 0.418923  \n",
      "LogisticRegression  0.025393  \n",
      "Boosting            0.000000  \n"
     ]
    }
   ],
   "source": [
    "models = [\"KNN\", \"RandomForest\", \"SVM\", \"LogisticRegression\", \"Boosting\"]\n",
    "\n",
    "p_values = {\n",
    "    (\"KNN\", \"RandomForest\"): 0.325808,\n",
    "    (\"RandomForest\", \"SVM\"): 0.011136,\n",
    "    (\"Boosting\", \"KNN\"): 0.006687,\n",
    "    (\"LogisticRegression\", \"RandomForest\"): 0.000057,\n",
    "    (\"Boosting\", \"SVM\"): 0.418923,\n",
    "    (\"KNN\", \"LogisticRegression\"): 0.000001,\n",
    "    (\"Boosting\", \"LogisticRegression\"): 0.025393,\n",
    "    (\"Boosting\", \"RandomForest\"): 0.070163,\n",
    "    (\"KNN\", \"SVM\"): 0.000462,\n",
    "    (\"LogisticRegression\", \"SVM\"): 0.130658,\n",
    "}\n",
    "\n",
    "p_matrix = pd.DataFrame(np.nan, index=models, columns=models)\n",
    "\n",
    "for (model1, model2), p_val in p_values.items():\n",
    "    p_matrix.loc[model1, model2] = p_val\n",
    "    p_matrix.loc[model2, model1] = p_val  # Simetría\n",
    "np.fill_diagonal(p_matrix.values, 0)\n",
    "\n",
    "print(p_matrix)\n"
   ]
  },
  {
   "cell_type": "code",
   "execution_count": 55,
   "id": "27e3c800",
   "metadata": {},
   "outputs": [
    {
     "name": "stderr",
     "output_type": "stream",
     "text": [
      "C:\\Users\\ignan\\anaconda3\\lib\\site-packages\\numpy\\core\\fromnumeric.py:57: FutureWarning: 'Series.swapaxes' is deprecated and will be removed in a future version. Please use 'Series.transpose' instead.\n",
      "  return bound(*args, **kwds)\n"
     ]
    },
    {
     "data": {
      "image/png": "[encoded data removed]",
      "text/plain": [
       "<Figure size 1000x200 with 1 Axes>"
      ]
     },
     "metadata": {},
     "output_type": "display_data"
    }
   ],
   "source": [
    "plt.figure(figsize=(10, 2), dpi=100)\n",
    "\n",
    "plt.suptitle('CLR Critical difference diagram from Finner\\'s Post-hoc test', y=1.1)\n",
    "\n",
    "ax = sp.critical_difference_diagram(ranks, p_matrix, color_palette=colors)\n",
    "\n",
    "plt.plot()\n",
    "plt.savefig(\"2.png\", bbox_inches='tight', dpi=100)\n"
   ]
  },
  {
   "cell_type": "markdown",
   "id": "33580bfd",
   "metadata": {},
   "source": [
    "## Feature Selections Multiple Comparison"
   ]
  },
  {
   "cell_type": "code",
   "execution_count": 60,
   "id": "6081a7bd",
   "metadata": {},
   "outputs": [],
   "source": [
    "stacked_lr = pd.read_csv(\"LRComparison.csv\", index_col=0)"
   ]
  },
  {
   "cell_type": "code",
   "execution_count": 61,
   "id": "29d8cd7b",
   "metadata": {},
   "outputs": [
    {
     "data": {
      "text/html": [
       "<div>\n",
       "<style scoped>\n",
       "    .dataframe tbody tr th:only-of-type {\n",
       "        vertical-align: middle;\n",
       "    }\n",
       "\n",
       "    .dataframe tbody tr th {\n",
       "        vertical-align: top;\n",
       "    }\n",
       "\n",
       "    .dataframe thead th {\n",
       "        text-align: right;\n",
       "    }\n",
       "</style>\n",
       "<table border=\"1\" class=\"dataframe\">\n",
       "  <thead>\n",
       "    <tr style=\"text-align: right;\">\n",
       "      <th></th>\n",
       "      <th>AE100</th>\n",
       "      <th>AE50</th>\n",
       "      <th>LASSO</th>\n",
       "      <th>MIFS100</th>\n",
       "      <th>MIFS50</th>\n",
       "      <th>Relief100</th>\n",
       "      <th>Relief50</th>\n",
       "      <th>VAE</th>\n",
       "      <th>MRMR100</th>\n",
       "      <th>MRMR50</th>\n",
       "    </tr>\n",
       "    <tr>\n",
       "      <th>Dataset</th>\n",
       "      <th></th>\n",
       "      <th></th>\n",
       "      <th></th>\n",
       "      <th></th>\n",
       "      <th></th>\n",
       "      <th></th>\n",
       "      <th></th>\n",
       "      <th></th>\n",
       "      <th></th>\n",
       "      <th></th>\n",
       "    </tr>\n",
       "  </thead>\n",
       "  <tbody>\n",
       "    <tr>\n",
       "      <th>CDI</th>\n",
       "      <td>0.887803</td>\n",
       "      <td>0.886947</td>\n",
       "      <td>0.915209</td>\n",
       "      <td>0.912416</td>\n",
       "      <td>0.904874</td>\n",
       "      <td>0.910729</td>\n",
       "      <td>0.912310</td>\n",
       "      <td>0.861704</td>\n",
       "      <td>0.902217</td>\n",
       "      <td>0.896769</td>\n",
       "    </tr>\n",
       "    <tr>\n",
       "      <th>CIR</th>\n",
       "      <td>0.660218</td>\n",
       "      <td>0.654158</td>\n",
       "      <td>0.810267</td>\n",
       "      <td>0.731770</td>\n",
       "      <td>0.694188</td>\n",
       "      <td>0.741006</td>\n",
       "      <td>0.747909</td>\n",
       "      <td>0.523345</td>\n",
       "      <td>0.824485</td>\n",
       "      <td>0.837139</td>\n",
       "    </tr>\n",
       "    <tr>\n",
       "      <th>CRC1</th>\n",
       "      <td>0.667454</td>\n",
       "      <td>0.681677</td>\n",
       "      <td>0.647013</td>\n",
       "      <td>0.618885</td>\n",
       "      <td>0.614397</td>\n",
       "      <td>0.684868</td>\n",
       "      <td>0.683047</td>\n",
       "      <td>0.658378</td>\n",
       "      <td>0.702203</td>\n",
       "      <td>0.711208</td>\n",
       "    </tr>\n",
       "    <tr>\n",
       "      <th>CRC2</th>\n",
       "      <td>0.786232</td>\n",
       "      <td>0.820616</td>\n",
       "      <td>0.760566</td>\n",
       "      <td>0.755017</td>\n",
       "      <td>0.740310</td>\n",
       "      <td>0.745246</td>\n",
       "      <td>0.724936</td>\n",
       "      <td>0.718848</td>\n",
       "      <td>0.757495</td>\n",
       "      <td>0.750411</td>\n",
       "    </tr>\n",
       "    <tr>\n",
       "      <th>CD1</th>\n",
       "      <td>0.788491</td>\n",
       "      <td>0.777017</td>\n",
       "      <td>0.796846</td>\n",
       "      <td>0.785208</td>\n",
       "      <td>0.785657</td>\n",
       "      <td>0.744542</td>\n",
       "      <td>0.742394</td>\n",
       "      <td>0.727660</td>\n",
       "      <td>0.806936</td>\n",
       "      <td>0.786494</td>\n",
       "    </tr>\n",
       "    <tr>\n",
       "      <th>CD2</th>\n",
       "      <td>0.837954</td>\n",
       "      <td>0.837238</td>\n",
       "      <td>0.821515</td>\n",
       "      <td>0.826850</td>\n",
       "      <td>0.837050</td>\n",
       "      <td>0.818357</td>\n",
       "      <td>0.815439</td>\n",
       "      <td>0.856854</td>\n",
       "      <td>0.845887</td>\n",
       "      <td>0.852462</td>\n",
       "    </tr>\n",
       "    <tr>\n",
       "      <th>HIV</th>\n",
       "      <td>0.740449</td>\n",
       "      <td>0.707906</td>\n",
       "      <td>0.833630</td>\n",
       "      <td>0.729947</td>\n",
       "      <td>0.719359</td>\n",
       "      <td>0.693568</td>\n",
       "      <td>0.698680</td>\n",
       "      <td>0.609157</td>\n",
       "      <td>0.727023</td>\n",
       "      <td>0.736391</td>\n",
       "    </tr>\n",
       "    <tr>\n",
       "      <th>IBD1</th>\n",
       "      <td>0.807714</td>\n",
       "      <td>0.791077</td>\n",
       "      <td>0.865253</td>\n",
       "      <td>0.761857</td>\n",
       "      <td>0.751231</td>\n",
       "      <td>0.795956</td>\n",
       "      <td>0.806527</td>\n",
       "      <td>0.714813</td>\n",
       "      <td>0.822549</td>\n",
       "      <td>0.818011</td>\n",
       "    </tr>\n",
       "    <tr>\n",
       "      <th>IBD2</th>\n",
       "      <td>0.619651</td>\n",
       "      <td>0.641272</td>\n",
       "      <td>0.684200</td>\n",
       "      <td>0.699788</td>\n",
       "      <td>0.694234</td>\n",
       "      <td>0.678310</td>\n",
       "      <td>0.664708</td>\n",
       "      <td>0.651150</td>\n",
       "      <td>0.697919</td>\n",
       "      <td>0.696098</td>\n",
       "    </tr>\n",
       "    <tr>\n",
       "      <th>MHE</th>\n",
       "      <td>0.688388</td>\n",
       "      <td>0.652339</td>\n",
       "      <td>0.719055</td>\n",
       "      <td>0.715709</td>\n",
       "      <td>0.710958</td>\n",
       "      <td>0.460400</td>\n",
       "      <td>0.456594</td>\n",
       "      <td>0.677091</td>\n",
       "      <td>0.765103</td>\n",
       "      <td>0.718255</td>\n",
       "    </tr>\n",
       "    <tr>\n",
       "      <th>OB</th>\n",
       "      <td>0.906014</td>\n",
       "      <td>0.858899</td>\n",
       "      <td>0.864971</td>\n",
       "      <td>0.796734</td>\n",
       "      <td>0.741655</td>\n",
       "      <td>0.780507</td>\n",
       "      <td>0.781655</td>\n",
       "      <td>0.867080</td>\n",
       "      <td>0.879097</td>\n",
       "      <td>0.852914</td>\n",
       "    </tr>\n",
       "    <tr>\n",
       "      <th>PAR1</th>\n",
       "      <td>0.645878</td>\n",
       "      <td>0.663561</td>\n",
       "      <td>0.678717</td>\n",
       "      <td>0.622717</td>\n",
       "      <td>0.598070</td>\n",
       "      <td>0.700152</td>\n",
       "      <td>0.688800</td>\n",
       "      <td>0.634086</td>\n",
       "      <td>0.729308</td>\n",
       "      <td>0.713029</td>\n",
       "    </tr>\n",
       "    <tr>\n",
       "      <th>PAR2</th>\n",
       "      <td>0.752941</td>\n",
       "      <td>0.729147</td>\n",
       "      <td>0.748036</td>\n",
       "      <td>0.696395</td>\n",
       "      <td>0.663831</td>\n",
       "      <td>0.686135</td>\n",
       "      <td>0.675413</td>\n",
       "      <td>0.719675</td>\n",
       "      <td>0.721945</td>\n",
       "      <td>0.721250</td>\n",
       "    </tr>\n",
       "    <tr>\n",
       "      <th>PAR3</th>\n",
       "      <td>0.756870</td>\n",
       "      <td>0.740334</td>\n",
       "      <td>0.759630</td>\n",
       "      <td>0.748248</td>\n",
       "      <td>0.720636</td>\n",
       "      <td>0.714695</td>\n",
       "      <td>0.708129</td>\n",
       "      <td>0.697309</td>\n",
       "      <td>0.780437</td>\n",
       "      <td>0.772375</td>\n",
       "    </tr>\n",
       "    <tr>\n",
       "      <th>ART</th>\n",
       "      <td>0.609834</td>\n",
       "      <td>0.636834</td>\n",
       "      <td>0.607660</td>\n",
       "      <td>0.515922</td>\n",
       "      <td>0.526954</td>\n",
       "      <td>0.671712</td>\n",
       "      <td>0.658092</td>\n",
       "      <td>0.559011</td>\n",
       "      <td>0.611477</td>\n",
       "      <td>0.600026</td>\n",
       "    </tr>\n",
       "  </tbody>\n",
       "</table>\n",
       "</div>"
      ],
      "text/plain": [
       "            AE100      AE50     LASSO   MIFS100    MIFS50  Relief100  \\\n",
       "Dataset                                                                \n",
       "CDI      0.887803  0.886947  0.915209  0.912416  0.904874   0.910729   \n",
       "CIR      0.660218  0.654158  0.810267  0.731770  0.694188   0.741006   \n",
       "CRC1     0.667454  0.681677  0.647013  0.618885  0.614397   0.684868   \n",
       "CRC2     0.786232  0.820616  0.760566  0.755017  0.740310   0.745246   \n",
       "CD1      0.788491  0.777017  0.796846  0.785208  0.785657   0.744542   \n",
       "CD2      0.837954  0.837238  0.821515  0.826850  0.837050   0.818357   \n",
       "HIV      0.740449  0.707906  0.833630  0.729947  0.719359   0.693568   \n",
       "IBD1     0.807714  0.791077  0.865253  0.761857  0.751231   0.795956   \n",
       "IBD2     0.619651  0.641272  0.684200  0.699788  0.694234   0.678310   \n",
       "MHE      0.688388  0.652339  0.719055  0.715709  0.710958   0.460400   \n",
       "OB       0.906014  0.858899  0.864971  0.796734  0.741655   0.780507   \n",
       "PAR1     0.645878  0.663561  0.678717  0.622717  0.598070   0.700152   \n",
       "PAR2     0.752941  0.729147  0.748036  0.696395  0.663831   0.686135   \n",
       "PAR3     0.756870  0.740334  0.759630  0.748248  0.720636   0.714695   \n",
       "ART      0.609834  0.636834  0.607660  0.515922  0.526954   0.671712   \n",
       "\n",
       "         Relief50       VAE   MRMR100    MRMR50  \n",
       "Dataset                                          \n",
       "CDI      0.912310  0.861704  0.902217  0.896769  \n",
       "CIR      0.747909  0.523345  0.824485  0.837139  \n",
       "CRC1     0.683047  0.658378  0.702203  0.711208  \n",
       "CRC2     0.724936  0.718848  0.757495  0.750411  \n",
       "CD1      0.742394  0.727660  0.806936  0.786494  \n",
       "CD2      0.815439  0.856854  0.845887  0.852462  \n",
       "HIV      0.698680  0.609157  0.727023  0.736391  \n",
       "IBD1     0.806527  0.714813  0.822549  0.818011  \n",
       "IBD2     0.664708  0.651150  0.697919  0.696098  \n",
       "MHE      0.456594  0.677091  0.765103  0.718255  \n",
       "OB       0.781655  0.867080  0.879097  0.852914  \n",
       "PAR1     0.688800  0.634086  0.729308  0.713029  \n",
       "PAR2     0.675413  0.719675  0.721945  0.721250  \n",
       "PAR3     0.708129  0.697309  0.780437  0.772375  \n",
       "ART      0.658092  0.559011  0.611477  0.600026  "
      ]
     },
     "execution_count": 61,
     "metadata": {},
     "output_type": "execute_result"
    }
   ],
   "source": [
    "stacked_lr"
   ]
  },
  {
   "cell_type": "code",
   "execution_count": 72,
   "id": "d19dcab3",
   "metadata": {},
   "outputs": [
    {
     "name": "stdout",
     "output_type": "stream",
     "text": [
      "VAE vs MRMR100: 0.000115\n",
      "MIFS50 vs MRMR100: 0.000418\n",
      "LASSO vs VAE: 0.001704\n",
      "VAE vs MRMR50: 0.001704\n",
      "Relief50 vs MRMR100: 0.002110\n",
      "LASSO vs MIFS50: 0.004399\n",
      "MIFS50 vs MRMR50: 0.004703\n",
      "Relief100 vs MRMR100: 0.005114\n",
      "AE50 vs MRMR100: 0.012778\n",
      "MIFS100 vs MRMR100: 0.012778\n",
      "AE100 vs VAE: 0.018660\n",
      "LASSO vs Relief50: 0.018660\n",
      "Relief50 vs MRMR50: 0.019042\n",
      "LASSO vs Relief100: 0.042502\n",
      "AE100 vs MIFS50: 0.046833\n",
      "Relief100 vs MRMR50: 0.046833\n",
      "AE50 vs LASSO: 0.077312\n",
      "LASSO vs MIFS100: 0.077312\n",
      "AE50 vs MRMR50: 0.080486\n",
      "MIFS100 vs MRMR50: 0.080486\n",
      "AE100 vs MRMR100: 0.127310\n",
      "AE100 vs Relief50: 0.138783\n",
      "AE50 vs VAE: 0.170860\n",
      "MIFS100 vs VAE: 0.170860\n",
      "AE100 vs Relief100: 0.250190\n",
      "Relief100 vs VAE: 0.268783\n",
      "AE50 vs MIFS50: 0.318303\n",
      "MIFS100 vs MIFS50: 0.318303\n",
      "AE100 vs AE50: 0.362590\n",
      "AE100 vs MIFS100: 0.362590\n",
      "AE100 vs LASSO: 0.410678\n",
      "Relief50 vs VAE: 0.410678\n",
      "AE100 vs MRMR50: 0.426246\n",
      "MIFS50 vs Relief100: 0.426246\n",
      "MRMR100 vs MRMR50: 0.443075\n",
      "LASSO vs MRMR100: 0.470326\n",
      "AE50 vs Relief50: 0.577035\n",
      "MIFS100 vs Relief50: 0.577035\n",
      "MIFS50 vs Relief50: 0.598440\n",
      "MIFS50 vs VAE: 0.715583\n",
      "Relief100 vs Relief50: 0.750268\n",
      "AE50 vs Relief100: 0.786184\n",
      "MIFS100 vs Relief100: 0.786184\n",
      "LASSO vs MRMR50: 0.955120\n",
      "AE50 vs MIFS100: 1.000000\n"
     ]
    }
   ],
   "source": [
    "statistic, p_value, ranking, rank_cmp  = stac.friedman_test(*np.transpose(np.asarray(stacked_lr)))\n",
    "ranks = {key: rank_cmp[i] for i, key in enumerate(list(stacked_lr.columns))} \n",
    "comparisons, z_values, p_values, adj_p_values = stac.finner_multitest(ranks)\n",
    "adj_p_values = np.asarray(adj_p_values)\n",
    "for comparison, p_value in zip(comparisons, adj_p_values):\n",
    "    print(f\"{comparison}: {p_value:.6f}\")"
   ]
  },
  {
   "cell_type": "code",
   "execution_count": 75,
   "id": "f76e009a",
   "metadata": {},
   "outputs": [
    {
     "name": "stdout",
     "output_type": "stream",
     "text": [
      "                VAE   MRMR100     AE100    MRMR50    MIFS50     LASSO  \\\n",
      "VAE        0.000000  0.000115  0.018660  0.001704  0.715583  0.001704   \n",
      "MRMR100    0.000115  0.000000  0.127310  0.443075  0.000418  0.470326   \n",
      "AE100      0.018660  0.127310  0.000000  0.426246  0.046833  0.410678   \n",
      "MRMR50     0.001704  0.443075  0.426246  0.000000  0.004703  0.955120   \n",
      "MIFS50     0.715583  0.000418  0.046833  0.004703  0.000000  0.004399   \n",
      "LASSO      0.001704  0.470326  0.410678  0.955120  0.004399  0.000000   \n",
      "Relief50   0.410678  0.002110  0.138783  0.019042  0.598440  0.018660   \n",
      "MIFS100    0.170860  0.012778  0.362590  0.080486  0.318303  0.077312   \n",
      "Relief100  0.268783  0.005114  0.250190  0.046833  0.426246  0.042502   \n",
      "AE50       0.170860  0.012778  0.362590  0.080486  0.318303  0.077312   \n",
      "\n",
      "           Relief50   MIFS100  Relief100      AE50  \n",
      "VAE        0.410678  0.170860   0.268783  0.170860  \n",
      "MRMR100    0.002110  0.012778   0.005114  0.012778  \n",
      "AE100      0.138783  0.362590   0.250190  0.362590  \n",
      "MRMR50     0.019042  0.080486   0.046833  0.080486  \n",
      "MIFS50     0.598440  0.318303   0.426246  0.318303  \n",
      "LASSO      0.018660  0.077312   0.042502  0.077312  \n",
      "Relief50   0.000000  0.577035   0.750268  0.577035  \n",
      "MIFS100    0.577035  0.000000   0.786184  1.000000  \n",
      "Relief100  0.750268  0.786184   0.000000  0.786184  \n",
      "AE50       0.577035  1.000000   0.786184  0.000000  \n"
     ]
    }
   ],
   "source": [
    "methods = [\n",
    "    \"VAE\", \"MRMR100\", \"AE100\", \"MRMR50\", \"MIFS50\", \n",
    "    \"LASSO\", \"Relief50\", \"MIFS100\", \"Relief100\", \"AE50\"\n",
    "]\n",
    "\n",
    "p_values = {\n",
    "    (\"VAE\", \"MRMR100\"): 0.000115,\n",
    "    (\"MIFS50\", \"MRMR100\"): 0.000418,\n",
    "    (\"LASSO\", \"VAE\"): 0.001704,\n",
    "    (\"VAE\", \"MRMR50\"): 0.001704,\n",
    "    (\"Relief50\", \"MRMR100\"): 0.002110,\n",
    "    (\"LASSO\", \"MIFS50\"): 0.004399,\n",
    "    (\"MIFS50\", \"MRMR50\"): 0.004703,\n",
    "    (\"Relief100\", \"MRMR100\"): 0.005114,\n",
    "    (\"AE50\", \"MRMR100\"): 0.012778,\n",
    "    (\"MIFS100\", \"MRMR100\"): 0.012778,\n",
    "    (\"AE100\", \"VAE\"): 0.018660,\n",
    "    (\"LASSO\", \"Relief50\"): 0.018660,\n",
    "    (\"Relief50\", \"MRMR50\"): 0.019042,\n",
    "    (\"LASSO\", \"Relief100\"): 0.042502,\n",
    "    (\"AE100\", \"MIFS50\"): 0.046833,\n",
    "    (\"Relief100\", \"MRMR50\"): 0.046833,\n",
    "    (\"AE50\", \"LASSO\"): 0.077312,\n",
    "    (\"LASSO\", \"MIFS100\"): 0.077312,\n",
    "    (\"AE50\", \"MRMR50\"): 0.080486,\n",
    "    (\"MIFS100\", \"MRMR50\"): 0.080486,\n",
    "    (\"AE100\", \"MRMR100\"): 0.127310,\n",
    "    (\"AE100\", \"Relief50\"): 0.138783,\n",
    "    (\"AE50\", \"VAE\"): 0.170860,\n",
    "    (\"MIFS100\", \"VAE\"): 0.170860,\n",
    "    (\"AE100\", \"Relief100\"): 0.250190,\n",
    "    (\"Relief100\", \"VAE\"): 0.268783,\n",
    "    (\"AE50\", \"MIFS50\"): 0.318303,\n",
    "    (\"MIFS100\", \"MIFS50\"): 0.318303,\n",
    "    (\"AE100\", \"AE50\"): 0.362590,\n",
    "    (\"AE100\", \"MIFS100\"): 0.362590,\n",
    "    (\"AE100\", \"LASSO\"): 0.410678,\n",
    "    (\"Relief50\", \"VAE\"): 0.410678,\n",
    "    (\"AE100\", \"MRMR50\"): 0.426246,\n",
    "    (\"MIFS50\", \"Relief100\"): 0.426246,\n",
    "    (\"MRMR100\", \"MRMR50\"): 0.443075,\n",
    "    (\"LASSO\", \"MRMR100\"): 0.470326,\n",
    "    (\"AE50\", \"Relief50\"): 0.577035,\n",
    "    (\"MIFS100\", \"Relief50\"): 0.577035,\n",
    "    (\"MIFS50\", \"Relief50\"): 0.598440,\n",
    "    (\"MIFS50\", \"VAE\"): 0.715583,\n",
    "    (\"Relief100\", \"Relief50\"): 0.750268,\n",
    "    (\"AE50\", \"Relief100\"): 0.786184,\n",
    "    (\"MIFS100\", \"Relief100\"): 0.786184,\n",
    "    (\"LASSO\", \"MRMR50\"): 0.955120,\n",
    "    (\"AE50\", \"MIFS100\"): 1.000000,\n",
    "}\n",
    "\n",
    "\n",
    "p_matrix = pd.DataFrame(np.nan, index=methods, columns=methods)\n",
    "\n",
    "\n",
    "for (method1, method2), p_val in p_values.items():\n",
    "    p_matrix.loc[method1, method2] = p_val\n",
    "    p_matrix.loc[method2, method1] = p_val  # Simetría\n",
    "\n",
    "\n",
    "np.fill_diagonal(p_matrix.values, 0)\n",
    "\n",
    "\n",
    "print(p_matrix)\n"
   ]
  },
  {
   "cell_type": "code",
   "execution_count": 76,
   "id": "851a03da",
   "metadata": {},
   "outputs": [
    {
     "name": "stderr",
     "output_type": "stream",
     "text": [
      "C:\\Users\\ignan\\anaconda3\\lib\\site-packages\\numpy\\core\\fromnumeric.py:57: FutureWarning: 'Series.swapaxes' is deprecated and will be removed in a future version. Please use 'Series.transpose' instead.\n",
      "  return bound(*args, **kwds)\n"
     ]
    },
    {
     "data": {
      "image/png": "[encoded data removed]",
      "text/plain": [
       "<Figure size 1600x300 with 1 Axes>"
      ]
     },
     "metadata": {},
     "output_type": "display_data"
    }
   ],
   "source": [
    "import matplotlib.pyplot as plt\n",
    "import scikit_posthocs as sp\n",
    "\n",
    "# Crear la figura\n",
    "plt.figure(figsize=(16, 3), dpi=100)\n",
    "\n",
    "algorithm_colors = {\n",
    "    \"LASSO\": \"#7979c7\",         # Azul\n",
    "    \"AE50\": \"yellow\",          # Naranja\n",
    "    \"AE100\": \"#377eb8\",         # Gris\n",
    "    \"VAE\": \"#999999\",           # Rojo\n",
    "    \"MRMR50\": \"#000000\",        # Celeste claro\n",
    "    \"MRMR100\": \"#8b0000\",       # Azul oscuro\n",
    "    \"MIFS50\": \"#1414b8\",        # Verde claro\n",
    "    \"MIFS100\": \"#8f7700\",       # Verde oscuro\n",
    "    \"Relief50\": \"#e41a1c\",      # Rojo claro\n",
    "    \"Relief100\": \"#87CEEB\",     # Púrpura\n",
    "}\n",
    "label_props = {\"fontsize\": 14}  \n",
    "\n",
    "ax = sp.critical_difference_diagram(ranks, p_matrix, color_palette=algorithm_colors, label_props=label_props)\n",
    "plt.savefig(\"5.png\")"
   ]
  },
  {
   "cell_type": "code",
   "execution_count": null,
   "id": "eb79ecba",
   "metadata": {},
   "outputs": [],
   "source": []
  }
 ],
 "metadata": {
  "kernelspec": {
   "display_name": "Python 3 (ipykernel)",
   "language": "python",
   "name": "python3"
  },
  "language_info": {
   "codemirror_mode": {
    "name": "ipython",
    "version": 3
   },
   "file_extension": ".py",
   "mimetype": "text/x-python",
   "name": "python",
   "nbconvert_exporter": "python",
   "pygments_lexer": "ipython3",
   "version": "3.9.7"
  }
 },
 "nbformat": 4,
 "nbformat_minor": 5
}
